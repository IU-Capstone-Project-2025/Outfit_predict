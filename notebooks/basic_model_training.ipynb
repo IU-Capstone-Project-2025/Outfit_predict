{
 "cells": [
  {
   "cell_type": "markdown",
   "metadata": {
    "id": "lH_OgSy9K-b1"
   },
   "source": [
    "# Basic training of YOLO v11 detection model"
   ]
  },
  {
   "cell_type": "markdown",
   "metadata": {
    "id": "IxUyazbGLJU7"
   },
   "source": [
    "**Libraries installation and import**"
   ]
  },
  {
   "cell_type": "code",
   "execution_count": null,
   "metadata": {
    "colab": {
     "base_uri": "https://localhost:8080/"
    },
    "id": "0wvlSADknfkE",
    "outputId": "41f8e466-f8df-40cb-9709-d3b0a6dca518"
   },
   "outputs": [],
   "source": [
    "!pip install ultralytics"
   ]
  },
  {
   "cell_type": "code",
   "execution_count": null,
   "metadata": {
    "colab": {
     "base_uri": "https://localhost:8080/"
    },
    "id": "OsTnEfcVLNOw",
    "outputId": "21574d9f-6f24-4ae3-d94c-b5d1521b5ef4"
   },
   "outputs": [],
   "source": [
    "from google.colab.patches import cv2_imshow\n",
    "from PIL import ImageFont, ImageDraw, Image\n",
    "from ultralytics import YOLO\n",
    "from pathlib import Path\n",
    "import numpy as np\n",
    "import kagglehub\n",
    "import shutil\n",
    "import random\n",
    "import yaml\n",
    "import cv2\n",
    "import os"
   ]
  },
  {
   "cell_type": "markdown",
   "metadata": {
    "id": "i14PuVv0LkdD"
   },
   "source": [
    "---\n",
    "\n",
    "**Dataset download**"
   ]
  },
  {
   "cell_type": "code",
   "execution_count": null,
   "metadata": {
    "colab": {
     "base_uri": "https://localhost:8080/"
    },
    "id": "U-yTsd9Jk3zB",
    "outputId": "8e40700e-ea9d-4139-ce2d-806e919f45d0"
   },
   "outputs": [],
   "source": [
    "# download dataset from kaggle\n",
    "path = kagglehub.dataset_download(\"nguyngiabol/colorful-fashion-dataset-for-object-detection\")\n",
    "print(\"Path to dataset files:\", path)"
   ]
  },
  {
   "cell_type": "code",
   "execution_count": null,
   "metadata": {
    "id": "Z0VGbNc1QGZ2"
   },
   "outputs": [],
   "source": [
    "# create directories for dataset store\n",
    "base_dir = Path(\"/content/colorful_object_detection/\")\n",
    "image_dir = base_dir / \"images\"\n",
    "label_dir = base_dir / \"labels\"\n",
    "\n",
    "for folder in [image_dir, label_dir]:\n",
    "  folder.mkdir(parents=True, exist_ok=True)"
   ]
  },
  {
   "cell_type": "code",
   "execution_count": null,
   "metadata": {
    "colab": {
     "base_uri": "https://localhost:8080/"
    },
    "id": "UzebNHpzTruk",
    "outputId": "cc8f3ca6-fcf3-4205-fa4d-3cd8507229ff"
   },
   "outputs": [],
   "source": [
    "# copy data to the current directory 'colorful_object_detection'\n",
    "source_root = Path('/kaggle/input/colorful-fashion-dataset-for-object-detection/colorful_fashion_dataset_for_object_detection/')\n",
    "source_imgs = source_root / 'JPEGImages'\n",
    "source_annots = source_root / 'Annotations_txt'\n",
    "for img in source_imgs.glob('*'):\n",
    "    shutil.copy(img, image_dir / img.name)\n",
    "    annot = source_annots / f'{img.stem}.txt'\n",
    "    shutil.copy(annot, label_dir / annot.name)\n",
    "print(\"Copy is done\")"
   ]
  },
  {
   "cell_type": "code",
   "execution_count": null,
   "metadata": {
    "id": "81cFRbUFePTl"
   },
   "outputs": [],
   "source": [
    "# directories creation\n",
    "for split in ['train', 'val']:\n",
    "  (image_dir / split).mkdir(parents=True, exist_ok=True)\n",
    "  (label_dir / split).mkdir(parents=True, exist_ok=True)\n",
    "\n",
    "# files shuffle\n",
    "files = list(image_dir.glob(\"*.jpg\"))\n",
    "np.random.shuffle(files)\n",
    "\n",
    "# split on train/val\n",
    "train_cnt = int(len(files) * 0.9)\n",
    "train_files, val_files = files[:train_cnt], files[train_cnt:]\n",
    "\n",
    "# move files to train/val directories\n",
    "for index, img_path in enumerate(files):\n",
    "    split = 'train' if index < train_cnt else 'val'\n",
    "\n",
    "    dest_img = image_dir / split / img_path.name\n",
    "    shutil.move(str(img_path), str(dest_img))\n",
    "\n",
    "    txt_path = label_dir / (img_path.stem + '.txt')\n",
    "    dest_txt = label_dir / split / txt_path.name\n",
    "    shutil.move(str(txt_path), str(dest_txt))"
   ]
  },
  {
   "cell_type": "markdown",
   "metadata": {
    "id": "kw1Y7nGBhlIq"
   },
   "source": [
    "---\n",
    "\n",
    "**Data Overview**"
   ]
  },
  {
   "cell_type": "code",
   "execution_count": null,
   "metadata": {
    "colab": {
     "base_uri": "https://localhost:8080/",
     "height": 635
    },
    "id": "nkRlVA37hprp",
    "outputId": "a4eda5a7-5a3f-4f11-c901-6b39fb3e8ac9"
   },
   "outputs": [],
   "source": [
    "img = cv2.imread(str(image_dir / 'train' / '100599.jpg'))\n",
    "print(f\"Shape of the image: {img.shape}\")\n",
    "cv2_imshow(img)"
   ]
  },
  {
   "cell_type": "code",
   "execution_count": null,
   "metadata": {
    "colab": {
     "base_uri": "https://localhost:8080/"
    },
    "id": "TkF-eqlwiYxc",
    "outputId": "e822fd97-3f8a-4c80-f775-0ca822cb42b8"
   },
   "outputs": [],
   "source": [
    "labels = []\n",
    "with open(label_dir / 'train' / '100599.txt') as f:\n",
    "    labels = [line.strip() for line in f if line.strip()]\n",
    "print(\"Clothes' bounding boxes in an image:\")\n",
    "for label in labels:\n",
    "    cls, xmin, ymin, xmax, ymax = label.split()\n",
    "    print(f\"Class {cls}, xmin: {xmin}, ymin: {ymin}, xmax: {xmax}, ymax: {ymax}\")"
   ]
  },
  {
   "cell_type": "code",
   "execution_count": null,
   "metadata": {
    "colab": {
     "base_uri": "https://localhost:8080/",
     "height": 617
    },
    "id": "IxSTcs11JfBJ",
    "outputId": "5bfaa7ba-bef5-41be-bb37-72344c7406b7"
   },
   "outputs": [],
   "source": [
    "def get_annotation(img, labels):\n",
    "  img_height, img_width, img_channels = img.shape\n",
    "  for obj in labels:\n",
    "    name, x, y, width, height = obj.split(\" \")\n",
    "    x, y, width, height = map(float, [x, y, width, height])\n",
    "    x1_real = int(np.abs(x - (width/2)) * img_width)\n",
    "    x2_real = int(np.abs(x + (width/2)) * img_width)\n",
    "    y1_real = int(np.abs(y + (height/2)) * img_height)\n",
    "    y2_real = int(np.abs(y - (height/2)) * img_height)\n",
    "    color = (0, 0, 0)\n",
    "    image = cv2.rectangle(img, (x1_real, y2_real), (x2_real, y1_real), color = color, thickness = 2)\n",
    "    image = cv2.putText(img, name, (x1_real, y2_real), fontFace=cv2.FONT_HERSHEY_DUPLEX,\n",
    "                      fontScale=1.0, color=color, thickness=2)\n",
    "  return img\n",
    "\n",
    "img = get_annotation(img, labels)\n",
    "cv2_imshow(img)"
   ]
  },
  {
   "cell_type": "markdown",
   "metadata": {
    "id": "EmlVnEchm8AJ"
   },
   "source": [
    "---\n",
    "\n",
    "**Compose metadata about dataset in yaml file**"
   ]
  },
  {
   "cell_type": "code",
   "execution_count": null,
   "metadata": {
    "id": "SzvuF4aNKkjN"
   },
   "outputs": [],
   "source": [
    "data = {\n",
    "    'nc': 10,\n",
    "    'train': 'colorful_object_detection/images/train',\n",
    "    'val': 'colorful_object_detection/images/val',\n",
    "    'names': {\n",
    "        0: 'sunglass',\n",
    "        1: 'hat',\n",
    "        2: 'jacket',\n",
    "        3: 'shirt',\n",
    "        4: 'pants',\n",
    "        5: 'shorts',\n",
    "        6: 'skirt',\n",
    "        7: 'dress',\n",
    "        8: 'bag',\n",
    "        9: 'shoe'\n",
    "    }\n",
    "}\n",
    "\n",
    "with open('data.yaml', 'w') as file:\n",
    "  yaml.dump(data, file)"
   ]
  },
  {
   "cell_type": "markdown",
   "metadata": {
    "id": "STyZY9Bon6Bj"
   },
   "source": [
    "---\n",
    "\n",
    "**YOLO v11 Model Fine-Tuning**"
   ]
  },
  {
   "cell_type": "code",
   "execution_count": null,
   "metadata": {
    "colab": {
     "base_uri": "https://localhost:8080/"
    },
    "id": "imAGUuY1n_JD",
    "outputId": "18898bf8-c42e-4da2-af41-297c2597e9f0"
   },
   "outputs": [],
   "source": [
    "model = YOLO(\"yolo11m.pt\")\n",
    "\n",
    "results = model.train(\n",
    "    data='data.yaml',\n",
    "    epochs=100,\n",
    "    batch=64,\n",
    "    device=[0],\n",
    "    freeze=8,\n",
    "    lr0=3e-4,\n",
    "    augment=True,\n",
    "    lrf=0.1\n",
    ")"
   ]
  }
 ],
 "metadata": {
  "accelerator": "GPU",
  "colab": {
   "gpuType": "T4",
   "provenance": []
  },
  "kernelspec": {
   "display_name": "Python 3",
   "name": "python3"
  },
  "language_info": {
   "name": "python"
  }
 },
 "nbformat": 4,
 "nbformat_minor": 0
}
